{
 "cells": [
  {
   "cell_type": "code",
   "execution_count": 1,
   "metadata": {
    "collapsed": true
   },
   "outputs": [
    {
     "name": "stdout",
     "output_type": "stream",
     "text": [
      "path to .env file: prod/env/shoc.env\n",
      "path to .env file: prod/env/doodlegnome.env\n",
      "path to .env file: prod/env/splash.env\n"
     ]
    }
   ],
   "source": [
    "\n",
    "import pandas as pd\n",
    "from dotenv import load_dotenv\n",
    "import os\n",
    "from account_list import client_list\n",
    "\n",
    "for account in client_list:\n",
    "    print(f'path to .env file: {account.env}')\n",
    "\n",
    "\n",
    "## LOAD DATA ##\n",
    "#load_dotenv(dotenv_path={account.env})  # take environment variables from .env in the specified path.\n"
   ]
  },
  {
   "cell_type": "code",
   "execution_count": 7,
   "outputs": [
    {
     "name": "stdout",
     "output_type": "stream",
     "text": [
      "https://d2bwaly4kt9c7p.cloudfront.net/google_conversions_mtd.csv\n"
     ]
    }
   ],
   "source": [
    "#load_dotenv(dotenv_path={account.env})  # take environment variables from .env in the specified path.\n",
    "\n",
    "load_dotenv(dotenv_path='env/dummy.env')  # take environment variables from .env in the specified path.\n",
    "google_conversions_mtd = os.getenv(\"GOOGLE_CONVERSIONS_MTD\")\n",
    "print(google_conversions_mtd)"
   ],
   "metadata": {
    "collapsed": false
   }
  },
  {
   "cell_type": "code",
   "execution_count": 8,
   "outputs": [
    {
     "name": "stdout",
     "output_type": "stream",
     "text": [
      "SHOC path to .env file: prod/env/shoc.env\n",
      "https://d2bwaly4kt9c7p.cloudfront.net/google_conversions_mtd.csv\n",
      "Doodle Gnome path to .env file: prod/env/doodlegnome.env\n",
      "https://d2bwaly4kt9c7p.cloudfront.net/google_conversions_mtd.csv\n",
      "Splash path to .env file: prod/env/splash.env\n",
      "https://d2bwaly4kt9c7p.cloudfront.net/google_conversions_mtd.csv\n"
     ]
    }
   ],
   "source": [
    "for account in client_list:\n",
    "    print(f'{account.name} path to .env file: {account.env}')\n",
    "    load_dotenv(dotenv_path=account.env)  # take environment variables from .env in the specified path.\n",
    "    google_conversions_mtd = os.getenv(\"GOOGLE_CONVERSIONS_MTD\")\n",
    "    print(google_conversions_mtd)"
   ],
   "metadata": {
    "collapsed": false
   }
  },
  {
   "cell_type": "code",
   "execution_count": null,
   "outputs": [],
   "source": [],
   "metadata": {
    "collapsed": false
   }
  }
 ],
 "metadata": {
  "kernelspec": {
   "display_name": "Python 3",
   "language": "python",
   "name": "python3"
  },
  "language_info": {
   "codemirror_mode": {
    "name": "ipython",
    "version": 2
   },
   "file_extension": ".py",
   "mimetype": "text/x-python",
   "name": "python",
   "nbconvert_exporter": "python",
   "pygments_lexer": "ipython2",
   "version": "2.7.6"
  }
 },
 "nbformat": 4,
 "nbformat_minor": 0
}
