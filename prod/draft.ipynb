{
 "cells": [
  {
   "cell_type": "code",
   "execution_count": 1,
   "metadata": {
    "collapsed": true
   },
   "outputs": [
    {
     "name": "stdout",
     "output_type": "stream",
     "text": [
      "path to .env file: prod/env/shoc.env\n",
      "path to .env file: prod/env/doodlegnome.env\n",
      "path to .env file: prod/env/splash.env\n"
     ]
    }
   ],
   "source": [
    "\n",
    "import pandas as pd\n",
    "from dotenv import load_dotenv\n",
    "import os\n",
    "from account_list import client_list\n",
    "\n",
    "for account in client_list:\n",
    "    print(f'path to .env file: {account.env}')\n",
    "\n",
    "\n",
    "## LOAD DATA ##\n",
    "#load_dotenv(dotenv_path={account.env})  # take environment variables from .env in the specified path.\n"
   ]
  },
  {
   "cell_type": "code",
   "execution_count": 3,
   "outputs": [
    {
     "ename": "NameError",
     "evalue": "name 'load_dotenv' is not defined",
     "output_type": "error",
     "traceback": [
      "\u001B[0;31m---------------------------------------------------------------------------\u001B[0m",
      "\u001B[0;31mNameError\u001B[0m                                 Traceback (most recent call last)",
      "Cell \u001B[0;32mIn[3], line 3\u001B[0m\n\u001B[1;32m      1\u001B[0m \u001B[38;5;66;03m#load_dotenv(dotenv_path={account.env})  # take environment variables from .env in the specified path.\u001B[39;00m\n\u001B[0;32m----> 3\u001B[0m \u001B[43mload_dotenv\u001B[49m(dotenv_path\u001B[38;5;241m=\u001B[39m\u001B[38;5;124m'\u001B[39m\u001B[38;5;124menv/dummy.env\u001B[39m\u001B[38;5;124m'\u001B[39m)  \u001B[38;5;66;03m# take environment variables from .env in the specified path.\u001B[39;00m\n\u001B[1;32m      4\u001B[0m google_conversions_mtd \u001B[38;5;241m=\u001B[39m os\u001B[38;5;241m.\u001B[39mgetenv(\u001B[38;5;124m\"\u001B[39m\u001B[38;5;124mGOOGLE_CONVERSIONS_MTD\u001B[39m\u001B[38;5;124m\"\u001B[39m)\n\u001B[1;32m      5\u001B[0m \u001B[38;5;28mprint\u001B[39m(google_conversions_mtd)\n",
      "\u001B[0;31mNameError\u001B[0m: name 'load_dotenv' is not defined"
     ]
    }
   ],
   "source": [
    "#load_dotenv(dotenv_path={account.env})  # take environment variables from .env in the specified path.\n",
    "\n",
    "load_dotenv(dotenv_path='env/dummy.env')  # take environment variables from .env in the specified path.\n",
    "google_conversions_mtd = os.getenv(\"GOOGLE_CONVERSIONS_MTD\")\n",
    "print(google_conversions_mtd)"
   ],
   "metadata": {
    "collapsed": false
   }
  },
  {
   "cell_type": "code",
   "execution_count": 8,
   "outputs": [
    {
     "name": "stdout",
     "output_type": "stream",
     "text": [
      "SHOC path to .env file: prod/env/shoc.env\n",
      "https://d2bwaly4kt9c7p.cloudfront.net/google_conversions_mtd.csv\n",
      "Doodle Gnome path to .env file: prod/env/doodlegnome.env\n",
      "https://d2bwaly4kt9c7p.cloudfront.net/google_conversions_mtd.csv\n",
      "Splash path to .env file: prod/env/splash.env\n",
      "https://d2bwaly4kt9c7p.cloudfront.net/google_conversions_mtd.csv\n"
     ]
    }
   ],
   "source": [
    "for account in client_list:\n",
    "    print(f'{account.name} path to .env file: {account.env}')\n",
    "    load_dotenv(dotenv_path=account.env)  # take environment variables from .env in the specified path.\n",
    "    google_conversions_mtd = os.getenv(\"GOOGLE_CONVERSIONS_MTD\")\n",
    "    print(google_conversions_mtd)"
   ],
   "metadata": {
    "collapsed": false
   }
  },
  {
   "cell_type": "code",
   "execution_count": 5,
   "outputs": [],
   "source": [
    "import mtd.process as process\n",
    "import mtd.pdf_report as pdf_report\n",
    "\n",
    "path = 'env/dummy.env' # specify the correct path relative to the main file\n",
    "\n",
    "def mtd_report(path):\n",
    "    process.configure_data(path)\n",
    "    amazon_df, shopify_df, tacos_df, engagement_df = process.for_report()\n",
    "    print(amazon_df)\n",
    "    print(shopify_df)\n",
    "    print(tacos_df)\n",
    "    print(engagement_df)\n",
    "    #pdf_report.generate(amazon_df, shopify_df, tacos_df, engagement_df)"
   ],
   "metadata": {
    "collapsed": false
   }
  },
  {
   "cell_type": "code",
   "execution_count": 6,
   "outputs": [
    {
     "name": "stdout",
     "output_type": "stream",
     "text": [
      "Path: env/dummy.env\n",
      "             Channel    Cost  Revenue  Purchases      ROAS\n",
      "0         Amazon Ads  481.92  2650.57        133  5.500021\n",
      "1  Amazon - Meta Ads  300.00     0.00          0  0.000000\n",
      "                Channel     Cost  Revenue  Purchases  ROAS\n",
      "2    Shopify - Meta Ads   130.27    914.0         15  7.02\n",
      "3  Shopify - Google Ads  1050.00   6300.0        315  6.00\n",
      "  Platform Total Sales      Spend  tACOS (%)\n",
      "0   Amazon   $5,000.00    $781.92  15.638400\n",
      "1  Shopify  $26,115.37  $1,180.27   4.519445\n",
      "                Channel  Clicks  Impressions  Click Through Rate (CTR)\n",
      "0     Amazon - Meta Ads    1600        23000                     14.84\n",
      "1    Shopify - Meta Ads    1200         3840                      3.20\n",
      "2  Shopify - Google Ads    1890        15120                     14.57\n"
     ]
    }
   ],
   "source": [
    "mtd_report(path)"
   ],
   "metadata": {
    "collapsed": false
   }
  },
  {
   "cell_type": "code",
   "execution_count": null,
   "outputs": [],
   "source": [],
   "metadata": {
    "collapsed": false
   }
  }
 ],
 "metadata": {
  "kernelspec": {
   "display_name": "Python 3",
   "language": "python",
   "name": "python3"
  },
  "language_info": {
   "codemirror_mode": {
    "name": "ipython",
    "version": 2
   },
   "file_extension": ".py",
   "mimetype": "text/x-python",
   "name": "python",
   "nbconvert_exporter": "python",
   "pygments_lexer": "ipython2",
   "version": "2.7.6"
  }
 },
 "nbformat": 4,
 "nbformat_minor": 0
}
